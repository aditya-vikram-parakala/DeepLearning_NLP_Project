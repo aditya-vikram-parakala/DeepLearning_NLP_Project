{
  "nbformat": 4,
  "nbformat_minor": 0,
  "metadata": {
    "colab": {
      "name": "CNN_NLP",
      "provenance": [],
      "collapsed_sections": []
    },
    "kernelspec": {
      "name": "python3",
      "display_name": "Python 3"
    },
    "accelerator": "GPU"
  },
  "cells": [
    {
      "cell_type": "code",
      "metadata": {
        "id": "21x9W4_kf6fh",
        "colab_type": "code",
        "colab": {}
      },
      "source": [
        ""
      ],
      "execution_count": 0,
      "outputs": []
    },
    {
      "cell_type": "code",
      "metadata": {
        "id": "7ULfsgNIg38t",
        "colab_type": "code",
        "outputId": "27126fdf-e6f5-4c36-fc8d-faddd5bd2368",
        "colab": {
          "base_uri": "https://localhost:8080/",
          "height": 124
        }
      },
      "source": [
        "from google.colab import drive\n",
        "drive.mount('/content/drive')"
      ],
      "execution_count": 2,
      "outputs": [
        {
          "output_type": "stream",
          "text": [
            "Go to this URL in a browser: https://accounts.google.com/o/oauth2/auth?client_id=947318989803-6bn6qk8qdgf4n4g3pfee6491hc0brc4i.apps.googleusercontent.com&redirect_uri=urn%3aietf%3awg%3aoauth%3a2.0%3aoob&response_type=code&scope=email%20https%3a%2f%2fwww.googleapis.com%2fauth%2fdocs.test%20https%3a%2f%2fwww.googleapis.com%2fauth%2fdrive%20https%3a%2f%2fwww.googleapis.com%2fauth%2fdrive.photos.readonly%20https%3a%2f%2fwww.googleapis.com%2fauth%2fpeopleapi.readonly\n",
            "\n",
            "Enter your authorization code:\n",
            "··········\n",
            "Mounted at /content/drive\n"
          ],
          "name": "stdout"
        }
      ]
    },
    {
      "cell_type": "markdown",
      "metadata": {
        "id": "7GPg5LhiGAxN",
        "colab_type": "text"
      },
      "source": [
        "#Import Required libraries"
      ]
    },
    {
      "cell_type": "code",
      "metadata": {
        "id": "58nq-cKzg4cs",
        "colab_type": "code",
        "colab": {
          "base_uri": "https://localhost:8080/",
          "height": 81
        },
        "outputId": "fa51bcfd-4eb9-4675-f34c-011c8afc1184"
      },
      "source": [
        "import pandas as pd\n",
        "import numpy as np\n",
        "import re\n",
        "import nltk\n",
        "from nltk.corpus import stopwords\n",
        "\n",
        "from numpy import array\n",
        "from keras.preprocessing.text import one_hot\n",
        "from keras.preprocessing.sequence import pad_sequences\n",
        "from keras.models import Sequential\n",
        "from keras.layers.core import Activation, Dropout, Dense\n",
        "from keras.layers import Flatten\n",
        "from keras.layers import GlobalMaxPooling1D\n",
        "from keras.layers.embeddings import Embedding\n",
        "from sklearn.model_selection import train_test_split\n",
        "from keras.preprocessing.text import Tokenizer"
        "citation: https://stackabuse.com/python-for-nlp-word-embeddings-for-deep-learning-in-keras"
      ],
      "execution_count": 3,
      "outputs": [
        {
          "output_type": "stream",
          "text": [
            "Using TensorFlow backend.\n"
          ],
          "name": "stderr"
        },
        {
          "output_type": "display_data",
          "data": {
            "text/html": [
              "<p style=\"color: red;\">\n",
              "The default version of TensorFlow in Colab will soon switch to TensorFlow 2.x.<br>\n",
              "We recommend you <a href=\"https://www.tensorflow.org/guide/migrate\" target=\"_blank\">upgrade</a> now \n",
              "or ensure your notebook will continue to use TensorFlow 1.x via the <code>%tensorflow_version 1.x</code> magic:\n",
              "<a href=\"https://colab.research.google.com/notebooks/tensorflow_version.ipynb\" target=\"_blank\">more info</a>.</p>\n"
            ],
            "text/plain": [
              "<IPython.core.display.HTML object>"
            ]
          },
          "metadata": {
            "tags": []
          }
        }
      ]
    },
    {
      "cell_type": "markdown",
      "metadata": {
        "id": "sBVT5g6AF1tO",
        "colab_type": "text"
      },
      "source": [
        "#Exploring IMDB Dataset"
      ]
    },
    {
      "cell_type": "code",
      "metadata": {
        "id": "w-eeu5qRhIRp",
        "colab_type": "code",
        "outputId": "a69d1247-78bf-4910-9fa7-1348e156080b",
        "colab": {
          "base_uri": "https://localhost:8080/",
          "height": 35
        }
      },
      "source": [
        "movie_reviews = pd.read_csv(\"./IMDB Dataset.csv\")\n",
        "\n",
        "movie_reviews.isnull().values.any()\n",
        "\n",
        "movie_reviews.shape"
      ],
      "execution_count": 4,
      "outputs": [
        {
          "output_type": "execute_result",
          "data": {
            "text/plain": [
              "(50000, 2)"
            ]
          },
          "metadata": {
            "tags": []
          },
          "execution_count": 4
        }
      ]
    },
    {
      "cell_type": "code",
      "metadata": {
        "id": "tXsxNKHQhbGD",
        "colab_type": "code",
        "outputId": "f39ad138-b6a4-4a86-a91f-91bb2c09d8d2",
        "colab": {
          "base_uri": "https://localhost:8080/",
          "height": 202
        }
      },
      "source": [
        "movie_reviews.head()"
      ],
      "execution_count": 5,
      "outputs": [
        {
          "output_type": "execute_result",
          "data": {
            "text/html": [
              "<div>\n",
              "<style scoped>\n",
              "    .dataframe tbody tr th:only-of-type {\n",
              "        vertical-align: middle;\n",
              "    }\n",
              "\n",
              "    .dataframe tbody tr th {\n",
              "        vertical-align: top;\n",
              "    }\n",
              "\n",
              "    .dataframe thead th {\n",
              "        text-align: right;\n",
              "    }\n",
              "</style>\n",
              "<table border=\"1\" class=\"dataframe\">\n",
              "  <thead>\n",
              "    <tr style=\"text-align: right;\">\n",
              "      <th></th>\n",
              "      <th>review</th>\n",
              "      <th>sentiment</th>\n",
              "    </tr>\n",
              "  </thead>\n",
              "  <tbody>\n",
              "    <tr>\n",
              "      <th>0</th>\n",
              "      <td>One of the other reviewers has mentioned that ...</td>\n",
              "      <td>positive</td>\n",
              "    </tr>\n",
              "    <tr>\n",
              "      <th>1</th>\n",
              "      <td>A wonderful little production. &lt;br /&gt;&lt;br /&gt;The...</td>\n",
              "      <td>positive</td>\n",
              "    </tr>\n",
              "    <tr>\n",
              "      <th>2</th>\n",
              "      <td>I thought this was a wonderful way to spend ti...</td>\n",
              "      <td>positive</td>\n",
              "    </tr>\n",
              "    <tr>\n",
              "      <th>3</th>\n",
              "      <td>Basically there's a family where a little boy ...</td>\n",
              "      <td>negative</td>\n",
              "    </tr>\n",
              "    <tr>\n",
              "      <th>4</th>\n",
              "      <td>Petter Mattei's \"Love in the Time of Money\" is...</td>\n",
              "      <td>positive</td>\n",
              "    </tr>\n",
              "  </tbody>\n",
              "</table>\n",
              "</div>"
            ],
            "text/plain": [
              "                                              review sentiment\n",
              "0  One of the other reviewers has mentioned that ...  positive\n",
              "1  A wonderful little production. <br /><br />The...  positive\n",
              "2  I thought this was a wonderful way to spend ti...  positive\n",
              "3  Basically there's a family where a little boy ...  negative\n",
              "4  Petter Mattei's \"Love in the Time of Money\" is...  positive"
            ]
          },
          "metadata": {
            "tags": []
          },
          "execution_count": 5
        }
      ]
    },
    {
      "cell_type": "code",
      "metadata": {
        "id": "GNrZeQg3hh5z",
        "colab_type": "code",
        "outputId": "32768753-8fa5-4a28-9f86-848f463e5e36",
        "colab": {
          "base_uri": "https://localhost:8080/",
          "height": 55
        }
      },
      "source": [
        "movie_reviews[\"review\"][3]"
      ],
      "execution_count": 6,
      "outputs": [
        {
          "output_type": "execute_result",
          "data": {
            "text/plain": [
              "\"Basically there's a family where a little boy (Jake) thinks there's a zombie in his closet & his parents are fighting all the time.<br /><br />This movie is slower than a soap opera... and suddenly, Jake decides to become Rambo and kill the zombie.<br /><br />OK, first of all when you're going to make a film you must Decide if its a thriller or a drama! As a drama the movie is watchable. Parents are divorcing & arguing like in real life. And then we have Jake with his closet which totally ruins all the film! I expected to see a BOOGEYMAN similar movie, and instead i watched a drama with some meaningless thriller spots.<br /><br />3 out of 10 just for the well playing parents & descent dialogs. As for the shots with Jake: just ignore them.\""
            ]
          },
          "metadata": {
            "tags": []
          },
          "execution_count": 6
        }
      ]
    },
    {
      "cell_type": "code",
      "metadata": {
        "id": "7wGUV3mDhuZE",
        "colab_type": "code",
        "outputId": "46186c7d-9ad7-4cec-ecb2-a1fdb5bfdc9b",
        "colab": {
          "base_uri": "https://localhost:8080/",
          "height": 297
        }
      },
      "source": [
        "import seaborn as sns\n",
        "\n",
        "sns.countplot(x='sentiment', data=movie_reviews)"
      ],
      "execution_count": 7,
      "outputs": [
        {
          "output_type": "execute_result",
          "data": {
            "text/plain": [
              "<matplotlib.axes._subplots.AxesSubplot at 0x7f4874e478d0>"
            ]
          },
          "metadata": {
            "tags": []
          },
          "execution_count": 7
        },
        {
          "output_type": "display_data",
          "data": {
            "image/png": "iVBORw0KGgoAAAANSUhEUgAAAZEAAAEGCAYAAACkQqisAAAABHNCSVQICAgIfAhkiAAAAAlwSFlz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\nRCRJ3QwRSVI3Q0SS1M0QkSR1+//R8LGI66vvPQAAAABJRU5ErkJggg==\n",
            "text/plain": [
              "<Figure size 432x288 with 1 Axes>"
            ]
          },
          "metadata": {
            "tags": []
          }
        }
      ]
    },
    {
      "cell_type": "markdown",
      "metadata": {
        "id": "lcxU7nQrFwLv",
        "colab_type": "text"
      },
      "source": [
        "#Data preprocessing"
      ]
    },
    {
      "cell_type": "code",
      "metadata": {
        "id": "qEKwHDB4iL9U",
        "colab_type": "code",
        "colab": {}
      },
      "source": [
        "def preprocess_text(sen):\n",
        "    # Removing html tags\n",
        "    sentence = remove_tags(sen)\n",
        "\n",
        "    # Remove punctuations and numbers\n",
        "    sentence = re.sub('[^a-zA-Z]', ' ', sentence)\n",
        "\n",
        "    # Single character removal\n",
        "    sentence = re.sub(r\"\\s+[a-zA-Z]\\s+\", ' ', sentence)\n",
        "\n",
        "    # Removing multiple spaces\n",
        "    sentence = re.sub(r'\\s+', ' ', sentence)\n",
        "\n",
        "    return sentence\n",
        "TAG_RE = re.compile(r'<[^>]+>')\n",
        "\n",
        "def remove_tags(text):\n",
        "    return TAG_RE.sub('', text)"
      ],
      "execution_count": 0,
      "outputs": []
    },
    {
      "cell_type": "code",
      "metadata": {
        "id": "k-cltz7tikzF",
        "colab_type": "code",
        "colab": {}
      },
      "source": [
        "X = []\n",
        "sentences = list(movie_reviews['review'])\n",
        "for sen in sentences:\n",
        "    X.append(preprocess_text(sen))"
      ],
      "execution_count": 0,
      "outputs": []
    },
    {
      "cell_type": "code",
      "metadata": {
        "id": "xjBTPEuUinbV",
        "colab_type": "code",
        "outputId": "6053dad7-ed85-4418-dbc9-3a6ba5beb75e",
        "colab": {
          "base_uri": "https://localhost:8080/",
          "height": 55
        }
      },
      "source": [
        "X[3]"
      ],
      "execution_count": 10,
      "outputs": [
        {
          "output_type": "execute_result",
          "data": {
            "text/plain": [
              "'Basically there a family where little boy Jake thinks there a zombie in his closet his parents are fighting all the time This movie is slower than soap opera and suddenly Jake decides to become Rambo and kill the zombie OK first of all when you re going to make film you must Decide if its thriller or drama As drama the movie is watchable Parents are divorcing arguing like in real life And then we have Jake with his closet which totally ruins all the film expected to see BOOGEYMAN similar movie and instead watched drama with some meaningless thriller spots out of just for the well playing parents descent dialogs As for the shots with Jake just ignore them '"
            ]
          },
          "metadata": {
            "tags": []
          },
          "execution_count": 10
        }
      ]
    },
    {
      "cell_type": "code",
      "metadata": {
        "id": "cU0D0uawiuDR",
        "colab_type": "code",
        "colab": {}
      },
      "source": [
        "y = movie_reviews['sentiment']\n",
        "\n",
        "y = np.array(list(map(lambda x: 1 if x==\"positive\" else 0, y)))"
      ],
      "execution_count": 0,
      "outputs": []
    },
    {
      "cell_type": "code",
      "metadata": {
        "id": "hycPDcJgi5rK",
        "colab_type": "code",
        "colab": {}
      },
      "source": [
        "X_train, X_test, y_train, y_test = train_test_split(X, y, test_size=0.20, random_state=42)\n"
      ],
      "execution_count": 0,
      "outputs": []
    },
    {
      "cell_type": "markdown",
      "metadata": {
        "id": "50PPiuu5GM_K",
        "colab_type": "text"
      },
      "source": [
        "#Converting the sentence to tokens using keras built-in function"
      ]
    },
    {
      "cell_type": "code",
      "metadata": {
        "id": "SFQDTA5ojALd",
        "colab_type": "code",
        "colab": {}
      },
      "source": [
        "tokenizer = Tokenizer(num_words=5000)\n",
        "tokenizer.fit_on_texts(X_train)\n",
        "\n",
        "X_train = tokenizer.texts_to_sequences(X_train)\n",
        "X_test = tokenizer.texts_to_sequences(X_test)"
      ],
      "execution_count": 0,
      "outputs": []
    },
    {
      "cell_type": "markdown",
      "metadata": {
        "id": "sKr2D9POGS9M",
        "colab_type": "text"
      },
      "source": [
        "#padding the sequence to a fixed length of 100"
      ]
    },
    {
      "cell_type": "code",
      "metadata": {
        "id": "5wmyZRpsjZWE",
        "colab_type": "code",
        "colab": {}
      },
      "source": [
        "# Adding 1 because of reserved 0 index\n",
        "vocab_size = len(tokenizer.word_index) + 1\n",
        "\n",
        "maxlen = 100\n",
        "\n",
        "X_train = pad_sequences(X_train, padding='post', maxlen=maxlen)\n",
        "X_test = pad_sequences(X_test, padding='post', maxlen=maxlen)"
      ],
      "execution_count": 0,
      "outputs": []
    },
    {
      "cell_type": "markdown",
      "metadata": {
        "id": "r6g5xdp2K2So",
        "colab_type": "text"
      },
      "source": [
        "#Converting the data into an embedded representation. "
      ]
    },
    {
      "cell_type": "code",
      "metadata": {
        "id": "aUVcoX_gjoop",
        "colab_type": "code",
        "colab": {}
      },
      "source": [
        "from numpy import array\n",
        "from numpy import asarray\n",
        "from numpy import zeros\n",
        "\n",
        "embeddings_dictionary = dict()\n",
        "glove_file = open('./glove.6B.100d.txt', encoding=\"utf8\")\n",
        "\n",
        "for line in glove_file:\n",
        "    records = line.split()\n",
        "    word = records[0]\n",
        "    vector_dimensions = asarray(records[1:], dtype='float32')\n",
        "    embeddings_dictionary [word] = vector_dimensions\n",
        "glove_file.close()"
      ],
      "execution_count": 0,
      "outputs": []
    },
    {
      "cell_type": "code",
      "metadata": {
        "id": "zUEl-jp6q77Z",
        "colab_type": "code",
        "colab": {}
      },
      "source": [
        "embedding_matrix = zeros((vocab_size, 100))\n",
        "for word, index in tokenizer.word_index.items():\n",
        "    embedding_vector = embeddings_dictionary.get(word)\n",
        "    if embedding_vector is not None:\n",
        "        embedding_matrix[index] = embedding_vector"
      ],
      "execution_count": 0,
      "outputs": []
    },
    {
      "cell_type": "markdown",
      "metadata": {
        "id": "KQ9VGBwMLBjE",
        "colab_type": "text"
      },
      "source": [
        "#Model"
      ]
    },
    {
      "cell_type": "code",
      "metadata": {
        "id": "K-VtZunArIG-",
        "colab_type": "code",
        "colab": {}
      },
      "source": [
        "from keras.layers import Conv1D\n",
        "model = Sequential()\n",
        "embedding_layer = Embedding(vocab_size, 100, weights=[embedding_matrix], input_length=maxlen , trainable=False)\n",
        "model.add(embedding_layer)\n",
        "model.add(Conv1D(128, 5, activation='relu'))\n",
        "model.add(GlobalMaxPooling1D())\n",
        "model.add(Dense(1, activation='sigmoid'))\n",
        "model.compile(optimizer='adam', loss='binary_crossentropy', metrics=['acc'])"
      ],
      "execution_count": 0,
      "outputs": []
    },
    {
      "cell_type": "code",
      "metadata": {
        "id": "Q1zC5gmYwZLm",
        "colab_type": "code",
        "colab": {}
      },
      "source": [
        "model.save('CNN.h5')"
      ],
      "execution_count": 0,
      "outputs": []
    },
    {
      "cell_type": "code",
      "metadata": {
        "id": "NuTS-zl2rIDp",
        "colab_type": "code",
        "outputId": "a7ee53bf-43db-40c7-b10e-46e5c43503d2",
        "colab": {
          "base_uri": "https://localhost:8080/",
          "height": 312
        }
      },
      "source": [
        "print(model.summary())"
      ],
      "execution_count": 18,
      "outputs": [
        {
          "output_type": "stream",
          "text": [
            "Model: \"sequential_1\"\n",
            "_________________________________________________________________\n",
            "Layer (type)                 Output Shape              Param #   \n",
            "=================================================================\n",
            "embedding_1 (Embedding)      (None, 100, 100)          9254700   \n",
            "_________________________________________________________________\n",
            "conv1d_1 (Conv1D)            (None, 96, 128)           64128     \n",
            "_________________________________________________________________\n",
            "global_max_pooling1d_1 (Glob (None, 128)               0         \n",
            "_________________________________________________________________\n",
            "dense_1 (Dense)              (None, 1)                 129       \n",
            "=================================================================\n",
            "Total params: 9,318,957\n",
            "Trainable params: 64,257\n",
            "Non-trainable params: 9,254,700\n",
            "_________________________________________________________________\n",
            "None\n"
          ],
          "name": "stdout"
        }
      ]
    },
    {
      "cell_type": "code",
      "metadata": {
        "id": "GDsnW8tarfl6",
        "colab_type": "code",
        "outputId": "e7fbb071-d9bc-4cf0-8853-6b97e23fe78e",
        "colab": {
          "base_uri": "https://localhost:8080/",
          "height": 349
        }
      },
      "source": [
        "history = model.fit(X_train, y_train, batch_size=128, epochs=6, verbose=1, validation_split=0.2)\n",
        "\n",
        "score = model.evaluate(X_test, y_test, verbose=1)"
      ],
      "execution_count": 19,
      "outputs": [
        {
          "output_type": "stream",
          "text": [
            "WARNING:tensorflow:From /usr/local/lib/python3.6/dist-packages/keras/backend/tensorflow_backend.py:1033: The name tf.assign_add is deprecated. Please use tf.compat.v1.assign_add instead.\n",
            "\n",
            "WARNING:tensorflow:From /usr/local/lib/python3.6/dist-packages/keras/backend/tensorflow_backend.py:1020: The name tf.assign is deprecated. Please use tf.compat.v1.assign instead.\n",
            "\n",
            "Train on 32000 samples, validate on 8000 samples\n",
            "Epoch 1/6\n",
            "32000/32000 [==============================] - 7s 208us/step - loss: 0.4979 - acc: 0.7547 - val_loss: 0.4209 - val_acc: 0.8034\n",
            "Epoch 2/6\n",
            "32000/32000 [==============================] - 2s 65us/step - loss: 0.3667 - acc: 0.8401 - val_loss: 0.3706 - val_acc: 0.8311\n",
            "Epoch 3/6\n",
            "32000/32000 [==============================] - 2s 63us/step - loss: 0.3175 - acc: 0.8659 - val_loss: 0.3589 - val_acc: 0.8393\n",
            "Epoch 4/6\n",
            "32000/32000 [==============================] - 2s 65us/step - loss: 0.2841 - acc: 0.8839 - val_loss: 0.3488 - val_acc: 0.8433\n",
            "Epoch 5/6\n",
            "32000/32000 [==============================] - 2s 73us/step - loss: 0.2429 - acc: 0.9071 - val_loss: 0.3443 - val_acc: 0.8459\n",
            "Epoch 6/6\n",
            "32000/32000 [==============================] - 2s 64us/step - loss: 0.2106 - acc: 0.9245 - val_loss: 0.3528 - val_acc: 0.8464\n",
            "10000/10000 [==============================] - 1s 73us/step\n"
          ],
          "name": "stdout"
        }
      ]
    },
    {
      "cell_type": "code",
      "metadata": {
        "id": "_GwkouiyrkSk",
        "colab_type": "code",
        "outputId": "8d9bcfc1-e9d0-484f-bb26-6aa7f9ab9fb5",
        "colab": {
          "base_uri": "https://localhost:8080/",
          "height": 52
        }
      },
      "source": [
        "print(\"Test Score:\", score[0])\n",
        "print(\"Test Accuracy:\", score[1])"
      ],
      "execution_count": 20,
      "outputs": [
        {
          "output_type": "stream",
          "text": [
            "Test Score: 0.3488206290483475\n",
            "Test Accuracy: 0.8486\n"
          ],
          "name": "stdout"
        }
      ]
    },
    {
      "cell_type": "markdown",
      "metadata": {
        "id": "kMXlUUmWLEyJ",
        "colab_type": "text"
      },
      "source": [
        "#Plots"
      ]
    },
    {
      "cell_type": "code",
      "metadata": {
        "id": "OowRdwjwrpjs",
        "colab_type": "code",
        "outputId": "7db3de45-f6f9-498e-e246-9d073910628b",
        "colab": {
          "base_uri": "https://localhost:8080/",
          "height": 573
        }
      },
      "source": [
        "import matplotlib.pyplot as plt\n",
        "\n",
        "plt.plot(history.history['acc'])\n",
        "plt.plot(history.history['val_acc'])\n",
        "\n",
        "plt.title('model accuracy')\n",
        "plt.ylabel('accuracy')\n",
        "plt.xlabel('epoch')\n",
        "plt.legend(['train','test'], loc = 'upper left')\n",
        "plt.show()\n",
        "\n",
        "plt.plot(history.history['loss'])\n",
        "plt.plot(history.history['val_loss'])\n",
        "\n",
        "plt.title('model loss')\n",
        "plt.ylabel('loss')\n",
        "plt.xlabel('epoch')\n",
        "plt.legend(['train','test'], loc = 'upper left')\n",
        "plt.show()"
      ],
      "execution_count": 21,
      "outputs": [
        {
          "output_type": "display_data",
          "data": {
            "image/png": "iVBORw0KGgoAAAANSUhEUgAAAY4AAAEWCAYAAABxMXBSAAAABHNCSVQICAgIfAhkiAAAAAlwSFlz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\nGGMqxYLDGGNMpfx/g/q0fbuwX/wAAAAASUVORK5CYII=\n",
            "text/plain": [
              "<Figure size 432x288 with 1 Axes>"
            ]
          },
          "metadata": {
            "tags": []
          }
        },
        {
          "output_type": "display_data",
          "data": {
            "image/png": "iVBORw0KGgoAAAANSUhEUgAAAYgAAAEWCAYAAAB8LwAVAAAABHNCSVQICAgIfAhkiAAAAAlwSFlz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\nEBGRsBQQIiIS1v8HDnZMgbc7nzQAAAAASUVORK5CYII=\n",
            "text/plain": [
              "<Figure size 432x288 with 1 Axes>"
            ]
          },
          "metadata": {
            "tags": []
          }
        }
      ]
    }
  ]
}
