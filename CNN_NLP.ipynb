{
  "nbformat": 4,
  "nbformat_minor": 0,
  "metadata": {
    "colab": {
      "name": "CNN_NLP",
      "provenance": [],
      "collapsed_sections": []
    },
    "kernelspec": {
      "name": "python3",
      "display_name": "Python 3"
    },
    "accelerator": "GPU"
  },
  "cells": [
    {
      "cell_type": "code",
      "metadata": {
        "id": "21x9W4_kf6fh",
        "colab_type": "code",
        "colab": {}
      },
      "source": [
        ""
      ],
      "execution_count": 0,
      "outputs": []
    },
    {
      "cell_type": "code",
      "metadata": {
        "id": "7ULfsgNIg38t",
        "colab_type": "code",
        "colab": {}
      },
      "source": [
        "# from google.colab import drive\n",
        "# drive.mount('/content/drive')"
      ],
      "execution_count": 0,
      "outputs": []
    },
    {
      "cell_type": "markdown",
      "metadata": {
        "id": "7GPg5LhiGAxN",
        "colab_type": "text"
      },
      "source": [
        "#Import Required libraries"
      ]
    },
    {
      "cell_type": "markdown",
      "metadata": {
        "id": "mo4VmGSll_fX",
        "colab_type": "text"
      },
      "source": [
        ""
      ]
    },
    {
      "cell_type": "code",
      "metadata": {
        "id": "58nq-cKzg4cs",
        "colab_type": "code",
        "colab": {}
      },
      "source": [
        "import pandas as pd\n",
        "import numpy as np\n",
        "import re\n",
        "import nltk\n",
        "from nltk.corpus import stopwords\n",
        "\n",
        "from numpy import array\n",
        "from keras.preprocessing.text import one_hot\n",
        "from keras.preprocessing.sequence import pad_sequences\n",
        "from keras.models import Sequential\n",
        "from keras.layers.core import Activation, Dropout, Dense\n",
        "from keras.layers import Flatten\n",
        "from keras.layers import GlobalMaxPooling1D\n",
        "from keras.layers.embeddings import Embedding\n",
        "from sklearn.model_selection import train_test_split\n",
        "from keras.preprocessing.text import Tokenizer\n"
        "citation: https://stackabuse.com/python-for-nlp-word-embeddings-for-deep-learning-in-keras"
      ],
      "execution_count": 0,
      "outputs": []
    },
    {
      "cell_type": "markdown",
      "metadata": {
        "id": "U1aAUi7XmCge",
        "colab_type": "text"
      },
      "source": [
        "source:https://stackabuse.com/python-for-nlp-word-embeddings-for-deep-learning-in-keras"
      ]
    },
    {
      "cell_type": "markdown",
      "metadata": {
        "id": "sBVT5g6AF1tO",
        "colab_type": "text"
      },
      "source": [
        "#Exploring IMDB Dataset"
      ]
    },
    {
      "cell_type": "code",
      "metadata": {
        "id": "w-eeu5qRhIRp",
        "colab_type": "code",
        "outputId": "16da4bae-c8d1-4713-f092-2b3e826165bf",
        "colab": {
          "base_uri": "https://localhost:8080/",
          "height": 35
        }
      },
      "source": [
        "movie_reviews = pd.read_csv(\"./IMDB Dataset.csv\")\n",
        "\n",
        "movie_reviews.isnull().values.any()\n",
        "\n",
        "movie_reviews.shape"
      ],
      "execution_count": 24,
      "outputs": [
        {
          "output_type": "execute_result",
          "data": {
            "text/plain": [
              "(50000, 2)"
            ]
          },
          "metadata": {
            "tags": []
          },
          "execution_count": 24
        }
      ]
    },
    {
      "cell_type": "code",
      "metadata": {
        "id": "tXsxNKHQhbGD",
        "colab_type": "code",
        "outputId": "7677c839-fa49-42d9-8da9-de6e6d3fe714",
        "colab": {
          "base_uri": "https://localhost:8080/",
          "height": 202
        }
      },
      "source": [
        "movie_reviews.head()"
      ],
      "execution_count": 25,
      "outputs": [
        {
          "output_type": "execute_result",
          "data": {
            "text/html": [
              "<div>\n",
              "<style scoped>\n",
              "    .dataframe tbody tr th:only-of-type {\n",
              "        vertical-align: middle;\n",
              "    }\n",
              "\n",
              "    .dataframe tbody tr th {\n",
              "        vertical-align: top;\n",
              "    }\n",
              "\n",
              "    .dataframe thead th {\n",
              "        text-align: right;\n",
              "    }\n",
              "</style>\n",
              "<table border=\"1\" class=\"dataframe\">\n",
              "  <thead>\n",
              "    <tr style=\"text-align: right;\">\n",
              "      <th></th>\n",
              "      <th>review</th>\n",
              "      <th>sentiment</th>\n",
              "    </tr>\n",
              "  </thead>\n",
              "  <tbody>\n",
              "    <tr>\n",
              "      <th>0</th>\n",
              "      <td>One of the other reviewers has mentioned that ...</td>\n",
              "      <td>positive</td>\n",
              "    </tr>\n",
              "    <tr>\n",
              "      <th>1</th>\n",
              "      <td>A wonderful little production. &lt;br /&gt;&lt;br /&gt;The...</td>\n",
              "      <td>positive</td>\n",
              "    </tr>\n",
              "    <tr>\n",
              "      <th>2</th>\n",
              "      <td>I thought this was a wonderful way to spend ti...</td>\n",
              "      <td>positive</td>\n",
              "    </tr>\n",
              "    <tr>\n",
              "      <th>3</th>\n",
              "      <td>Basically there's a family where a little boy ...</td>\n",
              "      <td>negative</td>\n",
              "    </tr>\n",
              "    <tr>\n",
              "      <th>4</th>\n",
              "      <td>Petter Mattei's \"Love in the Time of Money\" is...</td>\n",
              "      <td>positive</td>\n",
              "    </tr>\n",
              "  </tbody>\n",
              "</table>\n",
              "</div>"
            ],
            "text/plain": [
              "                                              review sentiment\n",
              "0  One of the other reviewers has mentioned that ...  positive\n",
              "1  A wonderful little production. <br /><br />The...  positive\n",
              "2  I thought this was a wonderful way to spend ti...  positive\n",
              "3  Basically there's a family where a little boy ...  negative\n",
              "4  Petter Mattei's \"Love in the Time of Money\" is...  positive"
            ]
          },
          "metadata": {
            "tags": []
          },
          "execution_count": 25
        }
      ]
    },
    {
      "cell_type": "code",
      "metadata": {
        "id": "GNrZeQg3hh5z",
        "colab_type": "code",
        "outputId": "2a64ff70-fd8c-40d5-b271-d6d901a03264",
        "colab": {
          "base_uri": "https://localhost:8080/",
          "height": 55
        }
      },
      "source": [
        "movie_reviews[\"review\"][3]"
      ],
      "execution_count": 26,
      "outputs": [
        {
          "output_type": "execute_result",
          "data": {
            "text/plain": [
              "\"Basically there's a family where a little boy (Jake) thinks there's a zombie in his closet & his parents are fighting all the time.<br /><br />This movie is slower than a soap opera... and suddenly, Jake decides to become Rambo and kill the zombie.<br /><br />OK, first of all when you're going to make a film you must Decide if its a thriller or a drama! As a drama the movie is watchable. Parents are divorcing & arguing like in real life. And then we have Jake with his closet which totally ruins all the film! I expected to see a BOOGEYMAN similar movie, and instead i watched a drama with some meaningless thriller spots.<br /><br />3 out of 10 just for the well playing parents & descent dialogs. As for the shots with Jake: just ignore them.\""
            ]
          },
          "metadata": {
            "tags": []
          },
          "execution_count": 26
        }
      ]
    },
    {
      "cell_type": "code",
      "metadata": {
        "id": "7wGUV3mDhuZE",
        "colab_type": "code",
        "outputId": "1d08dcae-ca23-4202-cd71-3ccb90afbfde",
        "colab": {
          "base_uri": "https://localhost:8080/",
          "height": 297
        }
      },
      "source": [
        "import seaborn as sns\n",
        "\n",
        "sns.countplot(x='sentiment', data=movie_reviews)"
      ],
      "execution_count": 27,
      "outputs": [
        {
          "output_type": "execute_result",
          "data": {
            "text/plain": [
              "<matplotlib.axes._subplots.AxesSubplot at 0x7f1650053cc0>"
            ]
          },
          "metadata": {
            "tags": []
          },
          "execution_count": 27
        },
        {
          "output_type": "display_data",
          "data": {
            "image/png": "iVBORw0KGgoAAAANSUhEUgAAAZEAAAEGCAYAAACkQqisAAAABHNCSVQICAgIfAhkiAAAAAlwSFlz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\nRCRJ3QwRSVI3Q0SS1M0QkSR1+//R8LGI66vvPQAAAABJRU5ErkJggg==\n",
            "text/plain": [
              "<Figure size 432x288 with 1 Axes>"
            ]
          },
          "metadata": {
            "tags": []
          }
        }
      ]
    },
    {
      "cell_type": "markdown",
      "metadata": {
        "id": "lcxU7nQrFwLv",
        "colab_type": "text"
      },
      "source": [
        "#Data preprocessing"
      ]
    },
    {
      "cell_type": "code",
      "metadata": {
        "id": "qEKwHDB4iL9U",
        "colab_type": "code",
        "colab": {}
      },
      "source": [
        "def preprocess_text(sen):\n",
        "    # Removing html tags\n",
        "    sentence = remove_tags(sen)\n",
        "\n",
        "    # Remove punctuations and numbers\n",
        "    sentence = re.sub('[^a-zA-Z]', ' ', sentence)\n",
        "\n",
        "    # Single character removal\n",
        "    sentence = re.sub(r\"\\s+[a-zA-Z]\\s+\", ' ', sentence)\n",
        "\n",
        "    # Removing multiple spaces\n",
        "    sentence = re.sub(r'\\s+', ' ', sentence)\n",
        "\n",
        "    return sentence\n",
        "TAG_RE = re.compile(r'<[^>]+>')\n",
        "\n",
        "def remove_tags(text):\n",
        "    return TAG_RE.sub('', text)"
      ],
      "execution_count": 0,
      "outputs": []
    },
    {
      "cell_type": "code",
      "metadata": {
        "id": "k-cltz7tikzF",
        "colab_type": "code",
        "colab": {}
      },
      "source": [
        "X = []\n",
        "sentences = list(movie_reviews['review'])\n",
        "for sen in sentences:\n",
        "    X.append(preprocess_text(sen))"
      ],
      "execution_count": 0,
      "outputs": []
    },
    {
      "cell_type": "code",
      "metadata": {
        "id": "xjBTPEuUinbV",
        "colab_type": "code",
        "outputId": "65284a82-fb0e-4182-eca2-773da02698d0",
        "colab": {
          "base_uri": "https://localhost:8080/",
          "height": 55
        }
      },
      "source": [
        "X[3]"
      ],
      "execution_count": 30,
      "outputs": [
        {
          "output_type": "execute_result",
          "data": {
            "text/plain": [
              "'Basically there a family where little boy Jake thinks there a zombie in his closet his parents are fighting all the time This movie is slower than soap opera and suddenly Jake decides to become Rambo and kill the zombie OK first of all when you re going to make film you must Decide if its thriller or drama As drama the movie is watchable Parents are divorcing arguing like in real life And then we have Jake with his closet which totally ruins all the film expected to see BOOGEYMAN similar movie and instead watched drama with some meaningless thriller spots out of just for the well playing parents descent dialogs As for the shots with Jake just ignore them '"
            ]
          },
          "metadata": {
            "tags": []
          },
          "execution_count": 30
        }
      ]
    },
    {
      "cell_type": "code",
      "metadata": {
        "id": "cU0D0uawiuDR",
        "colab_type": "code",
        "colab": {}
      },
      "source": [
        "y = movie_reviews['sentiment']\n",
        "\n",
        "y = np.array(list(map(lambda x: 1 if x==\"positive\" else 0, y)))"
      ],
      "execution_count": 0,
      "outputs": []
    },
    {
      "cell_type": "code",
      "metadata": {
        "id": "hycPDcJgi5rK",
        "colab_type": "code",
        "colab": {}
      },
      "source": [
        "X_train, X_test, y_train, y_test = train_test_split(X, y, test_size=0.20, random_state=42)\n"
      ],
      "execution_count": 0,
      "outputs": []
    },
    {
      "cell_type": "markdown",
      "metadata": {
        "id": "50PPiuu5GM_K",
        "colab_type": "text"
      },
      "source": [
        "#Converting the sentence to tokens using keras built-in function"
      ]
    },
    {
      "cell_type": "code",
      "metadata": {
        "id": "SFQDTA5ojALd",
        "colab_type": "code",
        "colab": {}
      },
      "source": [
        "tokenizer = Tokenizer(num_words=5000)\n",
        "tokenizer.fit_on_texts(X_train)\n",
        "\n",
        "X_train = tokenizer.texts_to_sequences(X_train)\n",
        "X_test = tokenizer.texts_to_sequences(X_test)"
      ],
      "execution_count": 0,
      "outputs": []
    },
    {
      "cell_type": "markdown",
      "metadata": {
        "id": "sKr2D9POGS9M",
        "colab_type": "text"
      },
      "source": [
        "#padding the sequence to a fixed length of 100"
      ]
    },
    {
      "cell_type": "code",
      "metadata": {
        "id": "5wmyZRpsjZWE",
        "colab_type": "code",
        "colab": {}
      },
      "source": [
        "# Adding 1 because of reserved 0 index\n",
        "vocab_size = len(tokenizer.word_index) + 1\n",
        "\n",
        "maxlen = 100\n",
        "\n",
        "X_train = pad_sequences(X_train, padding='post', maxlen=maxlen)\n",
        "X_test = pad_sequences(X_test, padding='post', maxlen=maxlen)"
      ],
      "execution_count": 0,
      "outputs": []
    },
    {
      "cell_type": "markdown",
      "metadata": {
        "id": "r6g5xdp2K2So",
        "colab_type": "text"
      },
      "source": [
        "#Converting the data into an embedded representation. "
      ]
    },
    {
      "cell_type": "code",
      "metadata": {
        "id": "aUVcoX_gjoop",
        "colab_type": "code",
        "colab": {}
      },
      "source": [
        "from numpy import array\n",
        "from numpy import asarray\n",
        "from numpy import zeros\n",
        "\n",
        "embeddings_dictionary = dict()\n",
        "glove_file = open('./glove.6B.100d.txt', encoding=\"utf8\")\n",
        "\n",
        "for line in glove_file:\n",
        "    records = line.split()\n",
        "    word = records[0]\n",
        "    vector_dimensions = asarray(records[1:], dtype='float32')\n",
        "    embeddings_dictionary [word] = vector_dimensions\n",
        "glove_file.close()"
      ],
      "execution_count": 0,
      "outputs": []
    },
    {
      "cell_type": "code",
      "metadata": {
        "id": "zUEl-jp6q77Z",
        "colab_type": "code",
        "colab": {}
      },
      "source": [
        "embedding_matrix = zeros((vocab_size, 100))\n",
        "for word, index in tokenizer.word_index.items():\n",
        "    embedding_vector = embeddings_dictionary.get(word)\n",
        "    if embedding_vector is not None:\n",
        "        embedding_matrix[index] = embedding_vector"
      ],
      "execution_count": 0,
      "outputs": []
    },
    {
      "cell_type": "markdown",
      "metadata": {
        "id": "KQ9VGBwMLBjE",
        "colab_type": "text"
      },
      "source": [
        "#Model"
      ]
    },
    {
      "cell_type": "code",
      "metadata": {
        "id": "K-VtZunArIG-",
        "colab_type": "code",
        "colab": {
          "base_uri": "https://localhost:8080/",
          "height": 471
        },
        "outputId": "1a3dd40b-36fc-454e-ef92-c6c94de91233"
      },
      "source": [
        "from keras.layers import Conv1D\n",
        "model = Sequential()\n",
        "embedding_layer = Embedding(vocab_size, 100, weights=[embedding_matrix], input_length=maxlen , trainable=False)\n",
        "model.add(embedding_layer)\n",
        "model.add(Conv1D(128, 5, activation='relu'))\n",
        "model.add(GlobalMaxPooling1D())\n",
        "model.add(Dense(1, activation='sigmoid'))\n",
        "model.compile(optimizer='adam', loss='binary_crossentropy', metrics=['acc'])"
      ],
      "execution_count": 37,
      "outputs": [
        {
          "output_type": "stream",
          "text": [
            "WARNING:tensorflow:From /usr/local/lib/python3.6/dist-packages/keras/backend/tensorflow_backend.py:66: The name tf.get_default_graph is deprecated. Please use tf.compat.v1.get_default_graph instead.\n",
            "\n",
            "WARNING:tensorflow:From /usr/local/lib/python3.6/dist-packages/keras/backend/tensorflow_backend.py:541: The name tf.placeholder is deprecated. Please use tf.compat.v1.placeholder instead.\n",
            "\n",
            "WARNING:tensorflow:From /usr/local/lib/python3.6/dist-packages/keras/backend/tensorflow_backend.py:4432: The name tf.random_uniform is deprecated. Please use tf.random.uniform instead.\n",
            "\n",
            "WARNING:tensorflow:From /usr/local/lib/python3.6/dist-packages/keras/backend/tensorflow_backend.py:190: The name tf.get_default_session is deprecated. Please use tf.compat.v1.get_default_session instead.\n",
            "\n",
            "WARNING:tensorflow:From /usr/local/lib/python3.6/dist-packages/keras/backend/tensorflow_backend.py:197: The name tf.ConfigProto is deprecated. Please use tf.compat.v1.ConfigProto instead.\n",
            "\n",
            "WARNING:tensorflow:From /usr/local/lib/python3.6/dist-packages/keras/backend/tensorflow_backend.py:203: The name tf.Session is deprecated. Please use tf.compat.v1.Session instead.\n",
            "\n",
            "WARNING:tensorflow:From /usr/local/lib/python3.6/dist-packages/keras/backend/tensorflow_backend.py:207: The name tf.global_variables is deprecated. Please use tf.compat.v1.global_variables instead.\n",
            "\n",
            "WARNING:tensorflow:From /usr/local/lib/python3.6/dist-packages/keras/backend/tensorflow_backend.py:216: The name tf.is_variable_initialized is deprecated. Please use tf.compat.v1.is_variable_initialized instead.\n",
            "\n",
            "WARNING:tensorflow:From /usr/local/lib/python3.6/dist-packages/keras/backend/tensorflow_backend.py:223: The name tf.variables_initializer is deprecated. Please use tf.compat.v1.variables_initializer instead.\n",
            "\n",
            "WARNING:tensorflow:From /usr/local/lib/python3.6/dist-packages/keras/optimizers.py:793: The name tf.train.Optimizer is deprecated. Please use tf.compat.v1.train.Optimizer instead.\n",
            "\n",
            "WARNING:tensorflow:From /usr/local/lib/python3.6/dist-packages/keras/backend/tensorflow_backend.py:3657: The name tf.log is deprecated. Please use tf.math.log instead.\n",
            "\n",
            "WARNING:tensorflow:From /usr/local/lib/python3.6/dist-packages/tensorflow_core/python/ops/nn_impl.py:183: where (from tensorflow.python.ops.array_ops) is deprecated and will be removed in a future version.\n",
            "Instructions for updating:\n",
            "Use tf.where in 2.0, which has the same broadcast rule as np.where\n"
          ],
          "name": "stdout"
        }
      ]
    },
    {
      "cell_type": "code",
      "metadata": {
        "id": "Q1zC5gmYwZLm",
        "colab_type": "code",
        "colab": {}
      },
      "source": [
        "model.save('CNN.h5')"
      ],
      "execution_count": 0,
      "outputs": []
    },
    {
      "cell_type": "code",
      "metadata": {
        "id": "NuTS-zl2rIDp",
        "colab_type": "code",
        "outputId": "0dc0247e-c09c-4c25-c3a8-c5f31b1990df",
        "colab": {
          "base_uri": "https://localhost:8080/",
          "height": 607
        }
      },
      "source": [
        "print(model.summary())"
      ],
      "execution_count": 39,
      "outputs": [
        {
          "output_type": "stream",
          "text": [
            "Model: \"sequential_1\"\n",
            "_________________________________________________________________\n",
            "Layer (type)                 Output Shape              Param #   \n",
            "=================================================================\n",
            "embedding_1 (Embedding)      (None, 100, 100)          9254700   \n",
            "_________________________________________________________________\n",
            "conv1d_1 (Conv1D)            (None, 96, 128)           64128     \n",
            "_________________________________________________________________\n",
            "global_max_pooling1d_1 (Glob (None, 128)               0         \n",
            "_________________________________________________________________\n",
            "dense_1 (Dense)              (None, 1)                 129       \n",
            "=================================================================\n",
            "Total params: 9,318,957\n",
            "Trainable params: 64,257\n",
            "Non-trainable params: 9,254,700\n",
            "_________________________________________________________________\n",
            "None\n",
            "Model: \"sequential_2\"\n",
            "_________________________________________________________________\n",
            "Layer (type)                 Output Shape              Param #   \n",
            "=================================================================\n",
            "embedding_2 (Embedding)      (None, 100, 100)          9254700   \n",
            "_________________________________________________________________\n",
            "conv1d_2 (Conv1D)            (None, 96, 128)           64128     \n",
            "_________________________________________________________________\n",
            "global_max_pooling1d_2 (Glob (None, 128)               0         \n",
            "_________________________________________________________________\n",
            "dense_2 (Dense)              (None, 1)                 129       \n",
            "=================================================================\n",
            "Total params: 9,318,957\n",
            "Trainable params: 64,257\n",
            "Non-trainable params: 9,254,700\n",
            "_________________________________________________________________\n",
            "None\n"
          ],
          "name": "stdout"
        }
      ]
    },
    {
      "cell_type": "code",
      "metadata": {
        "id": "GDsnW8tarfl6",
        "colab_type": "code",
        "outputId": "164e3c20-04de-482f-b34b-ba5e5cdd163c",
        "colab": {
          "base_uri": "https://localhost:8080/",
          "height": 592
        }
      },
      "source": [
        "history = model.fit(X_train, y_train, batch_size=128, epochs=6, verbose=1, validation_split=0.2)\n",
        "\n",
        "score = model.evaluate(X_test, y_test, verbose=1)"
      ],
      "execution_count": 40,
      "outputs": [
        {
          "output_type": "stream",
          "text": [
            "WARNING:tensorflow:From /usr/local/lib/python3.6/dist-packages/keras/backend/tensorflow_backend.py:1033: The name tf.assign_add is deprecated. Please use tf.compat.v1.assign_add instead.\n",
            "\n",
            "WARNING:tensorflow:From /usr/local/lib/python3.6/dist-packages/keras/backend/tensorflow_backend.py:1020: The name tf.assign is deprecated. Please use tf.compat.v1.assign instead.\n",
            "\n",
            "Train on 32000 samples, validate on 8000 samples\n",
            "Epoch 1/6\n",
            "32000/32000 [==============================] - 6s 193us/step - loss: 0.5125 - acc: 0.7443 - val_loss: 0.4074 - val_acc: 0.8115\n",
            "Epoch 2/6\n",
            "32000/32000 [==============================] - 2s 47us/step - loss: 0.3699 - acc: 0.8378 - val_loss: 0.3681 - val_acc: 0.8356\n",
            "Epoch 3/6\n",
            "32000/32000 [==============================] - 1s 46us/step - loss: 0.3191 - acc: 0.8671 - val_loss: 0.3568 - val_acc: 0.8406\n",
            "Epoch 4/6\n",
            "32000/32000 [==============================] - 2s 48us/step - loss: 0.2799 - acc: 0.8872 - val_loss: 0.3427 - val_acc: 0.8494\n",
            "Epoch 5/6\n",
            "32000/32000 [==============================] - 1s 45us/step - loss: 0.2431 - acc: 0.9077 - val_loss: 0.3409 - val_acc: 0.8495\n",
            "Epoch 6/6\n",
            "32000/32000 [==============================] - 1s 45us/step - loss: 0.2172 - acc: 0.9196 - val_loss: 0.3442 - val_acc: 0.8471\n",
            "10000/10000 [==============================] - 1s 59us/step\n",
            "Train on 32000 samples, validate on 8000 samples\n",
            "Epoch 1/6\n",
            "32000/32000 [==============================] - 2s 55us/step - loss: 0.5045 - acc: 0.7552 - val_loss: 0.3968 - val_acc: 0.8236\n",
            "Epoch 2/6\n",
            "32000/32000 [==============================] - 1s 46us/step - loss: 0.3679 - acc: 0.8381 - val_loss: 0.3660 - val_acc: 0.8385\n",
            "Epoch 3/6\n",
            "32000/32000 [==============================] - 1s 45us/step - loss: 0.3214 - acc: 0.8638 - val_loss: 0.3543 - val_acc: 0.8416\n",
            "Epoch 4/6\n",
            "32000/32000 [==============================] - 1s 46us/step - loss: 0.2795 - acc: 0.8865 - val_loss: 0.3442 - val_acc: 0.8450\n",
            "Epoch 5/6\n",
            "32000/32000 [==============================] - 1s 46us/step - loss: 0.2441 - acc: 0.9054 - val_loss: 0.3458 - val_acc: 0.8436\n",
            "Epoch 6/6\n",
            "32000/32000 [==============================] - 1s 45us/step - loss: 0.2148 - acc: 0.9221 - val_loss: 0.3831 - val_acc: 0.8315\n",
            "10000/10000 [==============================] - 1s 54us/step\n"
          ],
          "name": "stdout"
        }
      ]
    },
    {
      "cell_type": "code",
      "metadata": {
        "id": "_GwkouiyrkSk",
        "colab_type": "code",
        "outputId": "c18ab5bc-0dc5-487e-cdfb-c1b38dbf3f79",
        "colab": {
          "base_uri": "https://localhost:8080/",
          "height": 52
        }
      },
      "source": [
        "print(\"Test Score:\", score[0])\n",
        "print(\"Test Accuracy:\", score[1])"
      ],
      "execution_count": 43,
      "outputs": [
        {
          "output_type": "stream",
          "text": [
            "Test Score: 0.377802467918396\n",
            "Test Accuracy: 0.8279\n"
          ],
          "name": "stdout"
        }
      ]
    },
    {
      "cell_type": "markdown",
      "metadata": {
        "id": "kMXlUUmWLEyJ",
        "colab_type": "text"
      },
      "source": [
        "#Plots"
      ]
    },
    {
      "cell_type": "code",
      "metadata": {
        "id": "OowRdwjwrpjs",
        "colab_type": "code",
        "outputId": "973b7fc2-96d3-4324-b86e-2d4d8f8879d7",
        "colab": {
          "base_uri": "https://localhost:8080/",
          "height": 1000
        }
      },
      "source": [
        "import matplotlib.pyplot as plt\n",
        "\n",
        "plt.plot(history.history['acc'])\n",
        "plt.plot(history.history['val_acc'])\n",
        "\n",
        "plt.title('model accuracy')\n",
        "plt.ylabel('accuracy')\n",
        "plt.xlabel('epoch')\n",
        "plt.legend(['train','test'], loc = 'upper left')\n",
        "plt.show()\n",
        "\n",
        "plt.plot(history.history['loss'])\n",
        "plt.plot(history.history['val_loss'])\n",
        "\n",
        "plt.title('model loss')\n",
        "plt.ylabel('loss')\n",
        "plt.xlabel('epoch')\n",
        "plt.legend(['train','test'], loc = 'upper left')\n",
        "plt.show()"
      ],
      "execution_count": 42,
      "outputs": [
        {
          "output_type": "display_data",
          "data": {
            "image/png": "iVBORw0KGgoAAAANSUhEUgAAAY4AAAEWCAYAAABxMXBSAAAABHNCSVQICAgIfAhkiAAAAAlwSFlz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\nY4xpFgsOY4wxzWLBYYwxpln+PyycR9no1yQ0AAAAAElFTkSuQmCC\n",
            "text/plain": [
              "<Figure size 432x288 with 1 Axes>"
            ]
          },
          "metadata": {
            "tags": []
          }
        },
        {
          "output_type": "display_data",
          "data": {
            "image/png": "iVBORw0KGgoAAAANSUhEUgAAAYgAAAEWCAYAAAB8LwAVAAAABHNCSVQICAgIfAhkiAAAAAlwSFlz\nAAALEgAACxIB0t1+/AAAADh0RVh0U29mdHdhcmUAbWF0cGxvdGxpYiB2ZXJzaW9uMy4xLjEsIGh0\ndHA6Ly9tYXRwbG90bGliLm9yZy8QZhcZAAAgAElEQVR4nO3deXyU5bn/8c81kz0EAllYspCwCoIs\nhl0F6gKKgttxQTzqaUtt9dRuHrW1trWL9rQ/te2x7lRbAXctKlZFARfWgCg7BAgkYUkIBAjZk+v3\nxzzBgQ6QkEyeZHK9X6+8MvMsM9fYMt/c9/089y2qijHGGHMij9sFGGOMaZ0sIIwxxgRkAWGMMSYg\nCwhjjDEBWUAYY4wJyALCGGNMQBYQxjQDEXleRH7TwGNzReSipr6OMcFmAWGMMSYgCwhjjDEBWUCY\ndsPp2rlbRL4SkaMi8pyIdBWR90TkiIgsEJHOfsdPFZH1IlIiIotEZIDfvmEisto572Ug6oT3ulxE\n1jjnLhGRc86w5m+LSI6IHBCReSLSw9kuIvKoiBSKyGERWSsig5x9l4nIBqe2AhH5yRn9BzPtngWE\naW+uAS4G+gFXAO8BPwWS8P17+D6AiPQD5gI/cPbNB94WkQgRiQDeAv4BdAFedV4X59xhwCzgO0AC\n8BQwT0QiG1OoiHwDeAi4DugO7ARecnZfAlzgfI5OzjHFzr7ngO+oahwwCPi4Me9rTD0LCNPe/EVV\n96lqAfApsFxVv1DVCuBNYJhz3PXAu6r6oapWA38EooGxwGggHHhMVatV9TVgpd97zASeUtXlqlqr\nqi8Alc55jXETMEtVV6tqJXAfMEZEMoBqIA44CxBV3aiqe5zzqoGBItJRVQ+q6upGvq8xgAWEaX/2\n+T0uD/C8g/O4B76/2AFQ1TogD0hx9hXo8TNd7vR73BP4sdO9VCIiJUCac15jnFhDKb5WQoqqfgz8\nH/A4UCgiT4tIR+fQa4DLgJ0islhExjTyfY0BLCCMOZnd+L7oAV+fP74v+QJgD5DibKuX7vc4D/it\nqsb7/cSo6twm1hCLr8uqAEBV/6yq5wID8XU13e1sX6mq04BkfF1hrzTyfY0BLCCMOZlXgCkicqGI\nhAM/xtdNtARYCtQA3xeRcBG5Ghjpd+4zwO0iMsoZTI4VkSkiEtfIGuYCt4nIUGf84nf4usRyRWSE\n8/rhwFGgAqhzxkhuEpFOTtfYYaCuCf8dTDtmAWFMAKq6GZgB/AXYj29A+wpVrVLVKuBq4FbgAL7x\nijf8zs0Gvo2vC+ggkOMc29gaFgA/B17H12rpDdzg7O6IL4gO4uuGKgb+4Oy7GcgVkcPA7fjGMoxp\nNLEFg4wxxgRiLQhjjDEBWUAYY4wJyALCGGNMQBYQxhhjAgpzu4DmkpiYqBkZGW6XYYwxbcqqVav2\nq2pSoH0hExAZGRlkZ2e7XYYxxrQpIrLzZPusi8kYY0xAFhDGGGMCsoAwxhgTUMiMQQRSXV1Nfn4+\nFRUVbpcSdFFRUaSmphIeHu52KcaYEBHSAZGfn09cXBwZGRkcP/FmaFFViouLyc/PJzMz0+1yjDEh\nIqS7mCoqKkhISAjpcAAQERISEtpFS8kY03JCOiCAkA+Heu3lcxpjWk7IB8Tp1NUpew6VU1VT63Yp\nxhjTqrT7gKipU4pLq8g/WE4wpj4vKSnhr3/9a6PPu+yyyygpKWn2eowxpqHafUBEhHno1imK0soa\nSsqrm/31TxYQNTU1pzxv/vz5xMfHN3s9xhjTUCF9FVNDJcRGUFJWzZ6ScuIiwwjzNl9u3nvvvWzb\nto2hQ4cSHh5OVFQUnTt3ZtOmTWzZsoUrr7ySvLw8KioquOuuu5g5cybw9dQhpaWlXHrppZx33nks\nWbKElJQU/vnPfxIdHd1sNRpjTCDtJiB+9fZ6Nuw+fNL9daqUV9cS5vEQGdawgBjYoyO/uOLsUx7z\n8MMPs27dOtasWcOiRYuYMmUK69atO3Y56qxZs+jSpQvl5eWMGDGCa665hoSEhONeY+vWrcydO5dn\nnnmG6667jtdff50ZM2Y0qEZjjDlT7b6LqZ5HhHCvh5raOmrrgrcM68iRI4+7V+HPf/4zQ4YMYfTo\n0eTl5bF169Z/OyczM5OhQ4cCcO6555Kbmxu0+owxpl5QWxAiMhn4E+AFnlXVh0/Yfyu+hdYLnE3/\np6rPOvtuAe53tv9GVV9oSi2n+0sffFc0bS0sRVXp2zUOr6f5Lx2NjY099njRokUsWLCApUuXEhMT\nw4QJEwLeyxAZGXnssdfrpby8vNnrMsaYEwUtIETECzwOXAzkAytFZJ6qbjjh0JdV9c4Tzu0C/ALI\nAhRY5Zx7MFj1Ang8QmrnaLYVlbLvcAU94pvezx8XF8eRI0cC7jt06BCdO3cmJiaGTZs2sWzZsia/\nnzHGNJdgtiBGAjmquh1ARF4CpgEnBkQgk4APVfWAc+6HwGRgbpBqPSY2MowusREUl1YSHxNOTETT\n/hMlJCQwbtw4Bg0aRHR0NF27dj22b/LkyTz55JMMGDCA/v37M3r06KaWb4wxzSaYAZEC5Pk9zwdG\nBTjuGhG5ANgC/FBV805ybkqwCj1Rt05RHKmooeBgOb2TO+Bp4l3Kc+bMCbg9MjKS9957L+C++nGG\nxMRE1q1bd2z7T37ykybVYowxDeX2IPXbQIaqngN8CDRqnEFEZopItohkFxUVNVtRYR4PPeKjKK+u\nZX9pZbO9rjHGtCXBDIgCIM3veSpfD0YDoKrFqlr/DfwscG5Dz3XOf1pVs1Q1Kykp4JKqZ6xTdAQd\no8IpPFxJZbVNw2GMaX+CGRArgb4ikikiEcANwDz/A0Sku9/TqcBG5/H7wCUi0llEOgOXONtaVEp8\nNAIUlARnGg5jjGnNgjYGoao1InInvi92LzBLVdeLyINAtqrOA74vIlOBGuAAcKtz7gER+TW+kAF4\nsH7AuiWFO9NwFJSUc7Csmi6xES1dgjHGuCao90Go6nxg/gnbHvB7fB9w30nOnQXMCmZ9DdGlfhqO\nQ+XERYUR3ozTcBhjTGtm33anISKkdI6mTmFPiS3IY4xpPywgGiAq3EtyXCQl5VUcbuSMr2c63TfA\nY489RllZ2Rmda4wxTWUB0UBJcZFEhXkpKClv1FxNFhDGmLaq3czm2lQep6upsdNw+E/3ffHFF5Oc\nnMwrr7xCZWUlV111Fb/61a84evQo1113Hfn5+dTW1vLzn/+cffv2sXv3biZOnEhiYiILFy4M8ic0\nxpjjtZ+AeO9e2Lu2SS8RC/SvqaW6VqmN8OLtfg5c+vApz/Gf7vuDDz7gtddeY8WKFagqU6dO5ZNP\nPqGoqIgePXrw7rvvAr45mjp16sQjjzzCwoULSUxMbFLdxhhzJqyLqZEiwjyIQGVNLUrj7o344IMP\n+OCDDxg2bBjDhw9n06ZNbN26lcGDB/Phhx9yzz338Omnn9KpU6cgVW+MMQ3XfloQp/lLv6EEqC2v\nJrf4KN06RpHciHNVlfvuu4/vfOc7/7Zv9erVzJ8/n/vvv58LL7yQBx54IMArGGNMy7EWxBnoGB1O\np+hw9h2ppOI003D4T/c9adIkZs2aRWlpKQAFBQUUFhaye/duYmJimDFjBnfffTerV6/+t3ONMaal\ntZ8WRDPrER9N6b4jFJSU0ysxFjnJjK/+031feumlTJ8+nTFjxgDQoUMHXnzxRXJycrj77rvxeDyE\nh4fzxBNPADBz5kwmT55Mjx49bJDaGNPiJFTmGMrKytLs7Ozjtm3cuJEBAwYE7T0PHK0k/2A5KZ2j\nSYiNPP0JQRbsz2uMCT0iskpVswLtsy6mJugcE0FsZBh7D1VQXVvndjnGGNOsLCCaQERIjfdNw7G7\nxNaJNsaElpAPiGB3oUWGe+kaF8mh8moONXIajuYUKl2FxpjWI6QDIioqiuLi4qB/eSbGRRIV7mV3\nSTm1dS3f1aSqFBcXExUV1eLvbYwJXSF9FVNqair5+fk053KkJ1NVU0fRkUpKdnuJj2n5dSOioqJI\nTU1t8fc1xoSukA6I8PBwMjMzW+z9fvX2ev72eS6v3T6GrIwuLfa+xhgTDCHdxdTSfnJJf1Lio7n3\njbVU1tg61saYts0CohnFRobxm6sGkVNYyhOLtrldjjHGNIkFRDOb2D+ZqUN68PjCHLbus2kyjDFt\nlwVEEDxwxUBiI8O494211DVicSFjjGlNLCCCILFDJPdPGciqnQeZvWKX2+UYY8wZsYAIkmuGp3Be\nn0R+/94m9h6qcLscY4xpNAuIIBERfnvVIGrq6vj5P9fZnc7GmDbHAiKIeibE8sOL+vHhhn38a91e\nt8sxxphGsYAIsm+el8nZPTrywLz1rs7VZIwxjRXUgBCRySKyWURyROTeUxx3jYioiGQ5zzNEpFxE\n1jg/TwazzmAK83p4+OpzKC6t5OH3NrpdjjHGNFjQAkJEvMDjwKXAQOBGERkY4Lg44C5g+Qm7tqnq\nUOfn9mDV2RIGp3biW+f3Yu6KPJZtL3a7HGOMaZBgtiBGAjmqul1Vq4CXgGkBjvs18HsgpC/1+eFF\n/UjrEs1P31h72nWsjTGmNQhmQKQAeX7P851tx4jIcCBNVd8NcH6miHwhIotF5PxAbyAiM0UkW0Sy\nW2LG1qaIjvDyu6sGs33/UR5fmON2OcYYc1quDVKLiAd4BPhxgN17gHRVHQb8CJgjIh1PPEhVn1bV\nLFXNSkpKCm7BzeD8vklcPTyFJxZtY9Pew26XY4wxpxTMgCgA0vyepzrb6sUBg4BFIpILjAbmiUiW\nqlaqajGAqq4CtgH9glhri7l/ykA6Rodz7+trqbVpOIwxrVgwA2Il0FdEMkUkArgBmFe/U1UPqWqi\nqmaoagawDJiqqtkikuQMciMivYC+wPYg1tpiusRG8MDlA1mTV8I/lua6XY4xxpxU0AJCVWuAO4H3\ngY3AK6q6XkQeFJGppzn9AuArEVkDvAbcrqoHglVrS5s2tAfj+yXxv+9vpqCk3O1yjDEmIAmVKSCy\nsrI0Ozvb7TIaLO9AGZc8+gljeifw3C1ZiIjbJRlj2iERWaWqWYH22Z3ULknrEsOPL+nHx5sKeeer\nPW6XY4wx/8YCwkW3jctkSGonfvX2ekrKqtwuxxhjjmMB4SKvR3jo6nM4WFbNb9+1aTiMMa2LBYTL\nBvboyMwLevHqqnyW5Ox3uxxjjDnGAqIVuOvCvmQkxHDfmzYNhzGm9bCAaAWiwr387urB7Cwu47EF\nW90uxxhjAAuIVmNs70Suy0rlmU+3s373IbfLMcYYC4jW5KeXDaBzTDj3vbGWmto6t8sxxrRzFhCt\nSHxMBL+cejZf5R/i+SW5bpdjjGnnLCBamSmDu3PhWcn8vw+2kHegzO1yjDHtmAVEKyMi/PrKQXgE\nfvbWOkJlKhRjTNtjAdEK9YiP5n8mn8UnW4p4a03B6U8wxpggsIBopWaM7smw9Hh+/c5GDhy1aTiM\nMS3PAqKV8nqEh68+hyMV1fzmnQ1ul2OMaYcsIFqx/t3i+O743rzxRQGfbGnda24bY0KPBUQr972J\nfeiVFMtP31xLWVWN2+UYY9oRC4hWLircy8NXn0P+wXIe/XCL2+UYY9oRC4g2YGRmF6aPSue5z3aw\nNt+m4TDGtAwLiDbi3kvPIrFDJPe8/hXVNg2HMaYFWEC0ER2jwnlw2tls2HOY5z7b4XY5xph2wAKi\nDZk8qDuTzu7Kox9uIXf/UbfLMcaEOAsIgN1roK5tdNs8OG0QEV4PP3trrU3DYYwJKguIkl3wzER4\nfAQsfxoqj7hd0Sl17RjFPZeexec5xby2Kt/tcowxIcwCokM3uPoZiIqH9+6GRwbCv34KB1pvP//0\nkemMyOjMb+dvZH9ppdvlGGNCVFADQkQmi8hmEckRkXtPcdw1IqIikuW37T7nvM0iMiloRYZFwOBr\n4dsfwbc+gn6TYMVT8OdhMPdG2L4YWllXjscjPHT1YMoqa3nwbZuGwxgTHEELCBHxAo8DlwIDgRtF\nZGCA4+KAu4DlftsGAjcAZwOTgb86rxdcqVlwzbPwg3VwwU8gbwX8fSo8MRZWPQ9VrWd9hj7Jcdwx\nsQ/zvtzNwk2FbpdjjAlBwWxBjARyVHW7qlYBLwHTAhz3a+D3QIXftmnAS6paqao7gBzn9VpGx+7w\njfvhh+th2l/B44W374JHB8KCX8Kh1tH3/90Jvemb3IH731rH0UqbhsMY07yCGRApQJ7f83xn2zEi\nMhxIU9V3G3tuiwiPgmE3wXc+hVvnQ8b58Pmf4LFz4JVbYNcyV7ufIsI8PHzNOew+VM4fP9jsWh3G\nmNAU5tYbi4gHeAS4tQmvMROYCZCent48hQV+I8gY5/sp2QUrnoHVL8CGt6D7UBh1Owy6GsIig1fD\nSZzbszM3j+7J80tymTqkB8PSO7d4DcaY0BTMFkQBkOb3PNXZVi8OGAQsEpFcYDQwzxmoPt25AKjq\n06qapapZSUlJzVz+ScSnwyW/hh9thMsfhZoKeOt2eHQQLHwIjuxrmTr83D2pP13jorjvjbU2DYcx\nptkEMyBWAn1FJFNEIvANOs+r36mqh1Q1UVUzVDUDWAZMVdVs57gbRCRSRDKBvsCKINbaeBGxkPVf\n8L1lcPObkDIcFv8eHj0b3pgJBatbrJS4qHB+feUgNu09wtOfbG+x9zXGhLagdTGpao2I3Am8D3iB\nWaq6XkQeBLJVdd4pzl0vIq8AG4Aa4A5VrQ1WrU0iAr2/4fsp3gYrnoYvZsNXL0PqSBh9OwyYCt7w\noJZx8cCuTBncnT99tJVLB3WjV1KHoL6fMSb0SahM15CVlaXZ2dlul+FTcRjWzPHdT3FgO8T1gJHf\nguG3QmxC0N628EgFF/2/xQzo3pG53x6NxyNBey9jTGgQkVWqmhVon91JHQxRHX0thztXwY0vQ1J/\n+OhB32Wy/7wT9q4Lytsmx0XxsykDWL7jAK9k553+BGOMOQULiGDyeKD/ZPjPt+B7y2HIjbD2NXhy\nHDx/OWx8B+qat+fsuqw0Rvfqwu/mb6TwcMXpTzDGmJOwgGgpyWfBFY/BjzbAxQ/CwVx4+Sb481BY\n8hcoL2mWtxERHrr6HCpq6vjl2+ub5TWNMe2TBURLi+kC4+6C76+B6/4OHVPhg/t9kwS++2Moavq6\n05mJsdx1YV/mr93Lhxta/rJbY0xosEHq1mDPl7D8KVj7KtRWQe8LYfR3fb89Z5bh1bV1XPGXzygp\nq+bDH11AXFRwr6IyxrRNNkjd2nUfAlf+FX64ASbeD/vWw+xrm7RGRbjXNw3HviMV/O+/bBoOY0zj\nWUC0Jh2SYPzd8IO1cPWzENWpSWtUDE2L57axmby4fCerdh4IUtHGmFBlXUytXX42LHvCN+9TXS30\nv9Q391PmBb6b9E7jaGUNlzz6CTERXt75/nlEhgV/1nRjTNthXUxtWWoWXPucr1VxwU8gb3mj1qiI\njQzjN1cNYmthKU8usmk4jDENZwHRVnTs4axRsQGmPQ7S8DUqJvZPZuqQHjy+MIecwta95rYxpvWw\ngGhrwqNg2Ay4vX6NivMatEbFA1cMJCbSy72vr6WuLjS6FY0xwWUB0VbVr1Fx/Yu+eyrG3AHbF8Ks\nSfD0BFgzF2oqjx2e2CGS+6cMJHvnQeas2OVe3caYNqNBASEid4lIR/F5TkRWi8glwS7ONFDnnl+v\nUTHlEaguD7hGxTXDUzivTyIPv7eJvYdsGg5jzKk1tAXxX6p6GLgE6AzcDDwctKrMmYmIhRHfhDuW\n+9ao6DEMFj98bI0K2f0Fv71qEDV1dTzwz+BMGGiMCR0NXQ+i/nrKy4B/OOs12FzSrdUp1qjomTqS\n/xt8FbevruKOOR7unXwWaV1i3K7YGNMKNeg+CBH5G5ACZAJD8C0AtEhVzw1ueQ0XsvdBNJeKw7Bm\ntm9Kj4M7KA1PJLsqjYK6RLpn9GP0sGHEJPfyLakam9igeyyMMW3fqe6DaGhAeIChwHZVLRGRLkCq\nqn7VvKWeOQuIBqqrg60fwFcvUV20jariXGJrDx9/TFg0xKf5wiI+HTrVP+7p+90h2QLEmBBxqoBo\naBfTGGCNqh4VkRnAcOBPzVWgaUH1a1T0n0w4EA5s2FHA3+Z/SnHBVobGHWZazxrSvfuRQ3mw+wso\nKz7+NbyRxwdIfDp08nvcoesZTzJojGk9GtqC+Apf19I5wPPAs8B1qjo+qNU1grUgmkZVWbCxkIfm\nb2T7/qOM6ZXAz6YMYFBKJ6gshUN5UJIHJTuhZNfXP4fy4GjR8S/mjYBOqccHSHzPr1sicd3AY1N+\nGNMaNEcX02pVHS4iDwAFqvpc/bbmLvZMWUA0j+raOuYs38VjC7ZQUl7N1cNSuXtSf7p1ijr5SVVl\nToDsCvxztPD44z3hToCc0HVVHyAde1iAGNNCmiMgFgP/Av4LOB8oBL5U1cHNWWhTWEA0r0Pl1fx1\nYQ5/+zwXjwdmnt+L74zvTWxkQ3sl/VSX+6YCOdb6OCFMSvcef7wnDDqmnNAC8RsP6ZgC3jOowxjz\nb5ojILoB04GVqvqpiKQDE1T1781b6pmzgAiOvANl/P5fm3jnqz0kxUXyk0v6ce25aXg9zThIXV0B\nhwtO6L7yC5EjewC//5+K1y9AThwLSfO1Try2QJIxDdHkgHBepCswwnm6QlULT3V8S7OACK5VOw/y\nm3c38MWuEs7qFsfPpgzg/L5JLfPmNVVwOD9A95UTIocLOD5APBDXwy84/LqyEvtCXHe7CssYR3O0\nIK4D/gAswnfT3PnA3ar6WjPW2SQWEMGnqry7dg+//9cm8g6UM7F/Ej+9bAB9u8a5W1hNldMC2RVg\nLCTPFy5a9/XxER0goQ8k9vMFRmJf3+MuvX2TIRrTjjRHQHwJXFzfahCRJGCBqg5p1kqbwAKi5VTW\n1PLCklz+8nEOZVW13DAijR9e3I/EDpFulxZYbTUc3g0Hc6F4K+z3+znkP3Gh+Foaif3+PTxik6zV\nYUJScwTEWv8BaefGudMOUovIZHz3S3iBZ1X14RP23w7cAdQCpcBMVd0gIhnARqB+MeVlqnr7qd7L\nAqLlHThaxZ8/2sqLy3YSFe7luxN6883zMokKb0NXIFWVQXGOX3Bs8f0Ub4Nqv8WYojr5giLBLzQS\n+0LnTAiLcK9+Y5qoOQLiD/jugZjrbLoe+EpV7znFOV5gC3AxkA+sBG5U1Q1+x3R0JgFERKYC31PV\nyU5AvKOqg07/8XwsINyzraiUh+ZvYsHGfaTER3P3pP5MHdIDT3MOZLe0ujpft9X+Lb4AqQ+O/Vud\nQXOHeKFLphMefY5vfcR0ca9+YxqoyXdSq+rdInINMM7Z9LSqvnma00YCOaq63SniJWAacCwg6sPB\nEctxI42mreid1IFnb8li6bZifvPuBn7w8hr+9vkOfjZlICMz2+iXpMfjDG6nQZ8Lj99XcdgJDafF\nUd/6yFkAtVVfHxeT8HVYJPi1OuJ72mW6pk1o8FVMjX5hkWuByar6Lef5zcAoVb3zhOPuAH4ERADf\nUNWtTgtiPb4WyGHgflX9NMB7zARmAqSnp5+7c+fOoHwW03B1dcqbXxTwh/c3s/dwBZPP7sa9l55F\nRmKs26UFX12t71Ld/X4tjvrWh//d5t4I6NLLr6uqvuuqj68ry5gWdMZdTCJyhMB/1QugqtrxFOc2\nKCD8jp8OTFLVW0QkEuigqsUici7wFnD2CS2O41gXU+tSXlXLM59u58nF26iurePm0Rl8/8I+xMe0\n0/76sgPHtzrqfx/cAXU1Xx/Xodvxg+P1rY9OaTa/lQmKZrkP4gzedAzwS1Wd5Dy/D0BVHzrJ8R7g\noKr+259QIrII+ImqnjQBLCBap8LDFTzy4RZeyc4jLiqc//5GH/5zTAYRYfZlB/iusDqY6xcafgPl\nFSVfHxcW7YxxnBgefXwLRRlzhtwKiDB8XUQXAgX4Bqmnq+p6v2P6qupW5/EVwC9UNcu5jPaAqtaK\nSC/gU2Cwqh442ftZQLRum/Ye5rfvbuTTrfvpmRDDvZPPYvKgbti6Uyeh6ptF139wvD48SnYef19H\nx9TjQ6P+sd0Q2HrU1kBNuW/amepyqKnwXSVX7fyuqThhX/3j8oYdkzwQbph9RqU1x3TfjaaqNSJy\nJ/A+vstcZzkr0T0IZKvqPOBOEbkIqAYOArc4p18APCgi1UAdcPupwsG0fmd168g/vjmKRZsL+d38\njXx39mpGZHTm/ikDGZIW73Z5rY+Ib+Gm2EToOfb4fTWVcGD7v4fHmjlQdeTr4yI6+O7r8Eb4ph7x\nhPsmQax/7A33zXt17HlYgO1hp9gX4LknrOHHesP8Xj+8ZSdoVPX9d/y3L+BAX8YnHuN8sR/7wq84\n+Zd//WP/bsTG8IRDeDSERfl+H3scA1EdfTMjh0X5/iAIgqC1IFqatSDajpraOl7OzuPRD7ewv7SK\naUN78D+TzyIlPtrt0to2VTiy9/grqw7l+7qx6qqd3zV+z2uO336yfS12caGcJKxOfO49dQDByb/I\n/b/8z/RzhUV9/SUdHuXr/guPPuELvP5xtO+Y8JgAX/L+x5zw5V//ui1wtZsrXUwtzQKi7TlSUc2T\ni7fx7Kc7UOCb52XyvQm9iYuyifZalbraBoZM/fOaU+wL9BqBXvNkxzbgNeDkX7iN/iI/4fiwqJC7\nWMACwrRqBSXl/PH9zbz5RQEJsRH88OJ+3DAijTBvaP1DNKY1OlVA2L9A47qU+GgevX4o8+4cR+/k\nDtz/1jou/dOnLNxUSKj8AWNMW2QBYVqNc1LjeXnmaJ66+Vyqa+u47fmV3PzcCjbuOentL8aYILKA\nMK2KiDDp7G588MPxPHD5QNYWHOKyP3/KPa99ReHhCrfLM6ZdsTEI06odKqvmLx9v5YWluYR7PXzn\ngt58+4JMYiJsLiNjmoONQZg2q1NMOPdfPpAFPxrP+H5JPLpgCxP/uIhXs/OoqwuNP26Maa0sIEyb\n0DMhlidmnMurt4+hW6do7n7tKy7/y2csydnvdmnGhCwLCNOmjMjowpvfHcufbhjKofJqpj+7nG+9\nsJKcwlK3SzMm5FhAmDbH4xGmDU3hox+P538m92fZ9gNMeuwTHvjnOopLK90uz5iQYQFh2qyocC/f\nm9CHRXdP4MaRacxevosJf1Kv0pkAABIpSURBVFjEk4u3UVFd63Z5xrR5FhCmzUvsEMlvrhzM+z84\nnxGZXXj4vU1c9Mhi5n252260M6YJLCBMyOiTHMesW0cw+1ujiIsK5/tzv+DqJ5awaqdNBGzMmbCA\nMCFnXJ9E3vnv8/jfa8+h4GA51zyxlDtmr2ZXcZnbpRnTptjdRiYkeT3CdVlpTBncnac/2c7Tn2zn\ngw17mTK4O7eOy2SorUFhzGnZndSmXdh7qIKnP9nOq9l5HKmsYVh6PLeOzeDSQd1t+VPTrtl038Y4\nSitreH1VPi8syWX7/qMkx0Vy8+ie3DgqncQOkW6XZ0yLs4Aw5gR1dcrirUU8/3kui7cUEeH1cMWQ\nHtw2LoNBKZ3cLs+YFuPKmtTGtGYejzCxfzIT+yeTU1jK35fm8tqqfF5fnc+IjM7cNi6TSwZ2tUWL\nTLtmLQhjHIcrqnllZR4vLM0l70A5PTpFMWNMT24ckU7n2Ai3yzMmKKyLyZhGqK1TPt5UyPNLdvB5\nTjGRYR6uGpbCreMyOKtbR7fLM6ZZWUAYc4Y27z3C80tyefOLfCqq6xjTK4Fbx2Vw0YCueD3idnnG\nNJkFhDFNVFJWxUsr8/jH0p0UlJST2jmaW8ZkcF1WGp1iwt0uz5gzZgFhTDOpqa1jwcZ9zPo8lxU7\nDhAd7uWac1O4dWwGfZLj3C7PmEZzbUU5EZksIptFJEdE7g2w/3YRWSsia0TkMxEZ6LfvPue8zSIy\nKZh1GtNQYV4Pkwd155XvjOHd75/HFUO680p2Phc98gk3P7ecjzfts5XuTMgIWgtCRLzAFuBiIB9Y\nCdyoqhv8jumoqoedx1OB76nqZCco5gIjgR7AAqCfqp50DmdrQRi3FJdW8tLKPP6+NJd9hyvJSIjh\nlrEZXHtuKnFR1v1kWje3WhAjgRxV3a6qVcBLwDT/A+rDwREL1KfVNOAlVa1U1R1AjvN6xrQ6CR0i\nuWNiHz675xv85cZhJHSI5Fdvb2DMQx/zy3nr2bH/qNslGnNGgnmjXAqQ5/c8Hxh14kEicgfwIyAC\n+IbfuctOODclwLkzgZkA6enpzVK0MWcq3Lkb+4ohPfgyr4Tnl+Qye/lOXliay8T+ydw6NoPz+yYi\nYlc/mbbB9dtEVfVxVe0N3APc38hzn1bVLFXNSkpKCk6BxpyBIWnxPHr9UD6/9xvcdWFfvso/xH/O\nWsFFjyzmH8t2crSyxu0SjTmtYAZEAZDm9zzV2XYyLwFXnuG5xrRKyXFR/OCifnx+70QevX4IsZFh\n/PytdYx+6CN+884G8g7YGhWm9QrmIHUYvkHqC/F9ua8Epqvqer9j+qrqVufxFcAvVDVLRM4G5vD1\nIPVHQF8bpDZtnaqyepev++m9tXuoVeWiAV25bVwGY3olWPeTaXGuTNanqjUicifwPuAFZqnqehF5\nEMhW1XnAnSJyEVANHARucc5dLyKvABuAGuCOU4WDMW2FiHBuz86c27Mzey8bwIvLdjJnxS4+3LCP\n/l3juHVcBlcOTSE6wut2qcbYjXLGuK2iupZ5X+7mb5/nsnHPYeJjwrlhRDr/OaYnPeKj3S7PhDi7\nk9qYNkBVWZl7kL99voP31+9FRJh0dlduHZvJiIzO1v1kgsLWgzCmDRARRmZ2YWRmF/IPlvGPZTt5\naUUe89fu5eweHbl1bAZXDOlBVLh1P5mWYS0IY1qx8qpa3vyigOeX7GDLvlISYiOYPiqdGaN70rVj\nlNvlmRBgXUzGtHGqytJtxcz6PJePNu3DK8Jlg7tz67gMhqd3drs804ZZF5MxbZyIMLZPImP7JLKr\nuIy/L83l5ew85n25myFp8dw2NoPLBncnIsz1e19NCLEWhDFt1NHKGt5Ync/fluSyvegoSXGRzBjV\nk+mj0kmKi3S7PNNGWBeTMSGsrk75NGc/f/t8B4s2FxHh9XD5kO7cNjaTwamd3C7PtHLWxWRMCPN4\nhPH9khjfL4ntRaX8felOXs3O443VBQxPj2fG6J5cNri7Xf1kGs1aEMaEoMMV1byanc+Ly3ayY/9R\n4mPCuWZ4KtNHpdM7qYPb5ZlWxLqYjGmn6q9+mr1iF++v20tNnTK6VxduGtWTSWd3s0FtY11MxrRX\n/lc/FR2p5NVVecxZvov/nvsFCbER/EdWGtNHppOeEON2qaYVshaEMe1M/aD27GU7+WhTIbV1yvl9\nE7lpVDoXDuhKuNdaFe2JdTEZYwLae6iCl1fm8dLKXew5VEFyXCTXj0jjhpHppNhEge2CBYQx5pRq\nautYtLmIOSt2sXBzIQJM7J/M9FHpTOifjNdjEwWGKgsIY0yD5R8sc1oVeRQdqaRHpyhuGJnO9SPS\nbP6nEGQBYYxptOraOj7auI/Zy3fx6db9eD3CRQOSmT6qJ+f3ScRjrYqQYFcxGWMaLdzrYfKg7kwe\n1J3c/UeZu3IXr2Xn8/76faR3ieGGkWn8x7lpNq1HCLMWhDGmwSpranl//T7mLN/Jsu0HCPcKl5zd\njZtGpdua2m2UdTEZY5pdTmEpc1fs4rVV+Rwqr6ZXYizTR6VzzfBUOsdGuF2eaSALCGNM0FRU1zJ/\n7R5mL9/Fqp0HiQjzMGVwd6aPSierpy2V2tpZQBhjWsSmvYeZs3wXb64u4EhlDf26dmD6yHSuGp5K\np+hwt8szAVhAGGNaVFlVDW9/uZs5y3fxZf4hosI9XHFOD24a3ZMhqZ2sVdGKWEAYY1yzruAQs5fv\n4p9rCiirqmVg947cNDqdaUNT6BBpF1K6zQLCGOO6IxXV/HPNbmYv38XGPYeJjfAybVgK00emMyjF\nFjZyiwWEMabVUFW+yCthzvJdvP3lbipr6hiSFs9No9K54pweREfYwkYtybWAEJHJwJ8AL/Csqj58\nwv4fAd8CaoAi4L9UdaezrxZY6xy6S1Wnnuq9LCCMaXsOlVXzxhf5zF6+i5zCUuKiwrh6WArTR/Wk\nf7c4t8trF1wJCBHxAluAi4F8YCVwo6pu8DtmIrBcVctE5LvABFW93tlXqqoNXvrKAsKYtktVWZl7\nkNnLd/Le2r1U1daR1bMzN41O59JBtlxqMLkVEGOAX6rqJOf5fQCq+tBJjh8G/J+qjnOeW0AY0w4d\nOFrF66vymbNi17HlUq8dnsqNtlxqULg1F1MKkOf3PB8YdYrjvwm85/c8SkSy8XU/Payqb514gojM\nBGYCpKenN7lgY4z7usRG8O0LevHN8zJZtr2Y2ct38fySXJ79bAdjeiVw0+h0Lhloy6W2hFZxjZmI\nzACygPF+m3uqaoGI9AI+FpG1qrrN/zxVfRp4GnwtiBYr2BgTdB7P18ulFh6p4NXsfOau2MWdc74g\nsYNvudQbR9hyqcEUzIAoANL8nqc6244jIhcBPwPGq2pl/XZVLXB+bxeRRcAwYNuJ5xtjQl9yXBR3\nTOzDd8f35pOtRcxevounFm/jiUXbuKBfEtNHpnPRgGTCbLnUZhXMMYgwfIPUF+ILhpXAdFVd73fM\nMOA1YLKqbvXb3hkoU9VKEUkElgLT/Ae4T2RjEMa0L3sOlfPyyjxeXpnHnkMVdO0YyfVZafxHVhpp\nXaxV0VBuXuZ6GfAYvstcZ6nqb0XkQSBbVeeJyAJgMLDHOWWXqk4VkbHAU0Ad4AEeU9XnTvVeFhDG\ntE81tXUs3FzEnOU7WbSlCFXom9yBCf2TmNA/mayMzkSG2VVQJ2M3yhlj2oW8A2W8v34vizYXsWLH\nAapq64iJ8DK2d6ITGEmkdrbWhT8LCGNMu3O0soal24pZtKWQRZuLyD9YDkCf5A5M6OdrXYzItNaF\nBYQxpl1TVbYVHWXR5kIWbyli+Xb/1kUC4/snM6FfUrscu7A1qY0x7ZqI0Ce5A32SO/Ct83tRVuW0\nLjYXsWhLIQs2FgLQOymWCf2TmdA/iZGZXax1YS0IY0x7pqrs2H/UCYsilm0vpqqmjuhwX+uifrA7\nVFsX1sVkjDENVF5Vy7LtxSzaXMiiLUXsLC4DoFdiLOOdsBiV2SVk5oeygDDGmDPka134BrqXbS+m\nsqaOqHAPY3olHOuO6pkQ63aZZ8wCwhhjmkF5VS3LdhSzeHMRizYXkuu0LjITYxnfz3cZ7eheCW2q\ndWEBYYwxQZBb37rYUsTSbV+3Lkb3Sjh2KW1GYutuXVhAGGNMkFVU149dFLF4SxE79h8FICMhhgn9\nkxnfP4kxrbB1YQFhjDEtbGexc2XU5kKWbi+morqOyDCndeEMdme2gtaFBYQxxrioorqW5TsO+MYu\nthSyvcjXuuiZEHNs7GJMr0RX1uO2gDDGmFZkV3EZi50pQJZsK6a8upaIMA+jMrscuzKqV2IsIhL0\nWiwgjDGmlaqormVl7oFj3VHbnNZFWpdoJvTzhcWY3gnERARn4gsLCGOMaSPyDpSxaEsRizcX8nnO\n8a2L8c6VUb2Tmq91YQFhjDFtUGVNLSt3HDx2KW1OYSkAqZ2jfQPd/ZIZ26dprQsLCGOMCQF5B8pY\nvKXIGbvYT1lVLRFeD5MGdeMvNw47o9e02VyNMSYEpHWJYcbonswY3ZPKmlqyc32ti4iw4KzFbQFh\njDFtUGSYl3F9EhnXJzFo7xGc2DHGGNPmWUAYY4wJyALCGGNMQBYQxhhjArKAMMYYE5AFhDHGmIAs\nIIwxxgRkAWGMMSagkJlqQ0SKgJ1NeIlEYH8zldNWtLfP3N4+L9hnbi+a8pl7qmpSoB0hExBNJSLZ\nJ5uPJFS1t8/c3j4v2GduL4L1ma2LyRhjTEAWEMYYYwKygPja024X4IL29pnb2+cF+8ztRVA+s41B\nGGOMCchaEMYYYwKygDDGGBNQuw8IEZksIptFJEdE7nW7nmATkVkiUigi69yupaWISJqILBSRDSKy\nXkTucrumYBORKBFZISJfOp/5V27X1BJExCsiX4jIO27X0lJEJFdE1orIGhFp1nWX2/UYhIh4gS3A\nxUA+sBK4UVU3uFpYEInIBUAp8HdVHeR2PS1BRLoD3VV1tYjEAauAK0P8f2cBYlW1VETCgc+Au1R1\nmculBZWI/AjIAjqq6uVu19MSRCQXyFLVZr85sL23IEYCOaq6XVWrgJeAaS7XFFSq+glwwO06WpKq\n7lHV1c7jI8BGIMXdqoJLfUqdp+HOT0j/NSgiqcAU4Fm3awkV7T0gUoA8v+f5hPgXR3snIhnAMGC5\nu5UEn9PdsgYoBD5U1VD/zI8B/wPUuV1IC1PgAxFZJSIzm/OF23tAmHZERDoArwM/UNXDbtcTbKpa\nq6pDgVRgpIiEbJeiiFwOFKrqKrdrccF5qjocuBS4w+lGbhbtPSAKgDS/56nONhNinH7414HZqvqG\n2/W0JFUtARYCk92uJYjGAVOd/viXgG+IyIvultQyVLXA+V0IvImv67xZtPeAWAn0FZFMEYkAbgDm\nuVyTaWbOgO1zwEZVfcTtelqCiCSJSLzzOBrfhRib3K0qeFT1PlVNVdUMfP+OP1bVGS6XFXQiEutc\neIGIxAKXAM12hWK7DghVrQHuBN7HN3D5iqqud7eq4BKRucBSoL+I5IvIN92uqQWMA27G91flGufn\nMreLCrLuwEIR+QrfH0Ifqmq7ufSzHekKfCYiXwIrgHdV9V/N9eLt+jJXY4wxJ9euWxDGGGNOzgLC\nGGNMQBYQxhhjArKAMMYYE5AFhDHGmIAsIIxpBURkQnuagdS0DRYQxhhjArKAMKYRRGSGs87CGhF5\nypkQr1REHnXWXfhIRJKcY4eKyDIR+UpE3hSRzs72PiKywFmrYbWI9HZevoOIvCYim0RktnMHuDGu\nsYAwpoFEZABwPTDOmQSvFrgJiAWyVfVsYDHwC+eUvwP3qOo5wFq/7bOBx1V1CDAW2ONsHwb8ABgI\n9MJ3B7gxrglzuwBj2pALgXOBlc4f99H4ptKuA152jnkReENEOgHxqrrY2f4C8Kozb06Kqr4JoKoV\nAM7rrVDVfOf5GiAD30I/xrjCAsKYhhPgBVW977iNIj8/4bgznb+m0u9xLfbv07jMupiMabiPgGtF\nJBlARLqISE98/46udY6ZDnymqoeAgyJyvrP9ZmCxs6Jdvohc6bxGpIjEtOinMKaB7C8UYxpIVTeI\nyP34Vu/yANXAHcBRfAvy3I+vy+l655RbgCedANgO3OZsvxl4SkQedF7jP1rwYxjTYDabqzFNJCKl\nqtrB7TqMaW7WxWSMMSYga0EYY4wJyFoQxhhjArKAMMYYE5AFhDHGmIAsIIwxxgRkAWGMMSag/w8V\nGwX1qr9DHgAAAABJRU5ErkJggg==\n",
            "text/plain": [
              "<Figure size 432x288 with 1 Axes>"
            ]
          },
          "metadata": {
            "tags": []
          }
        },
        {
          "output_type": "display_data",
          "data": {
            "image/png": "iVBORw0KGgoAAAANSUhEUgAAAY4AAAEWCAYAAABxMXBSAAAABHNCSVQICAgIfAhkiAAAAAlwSFlz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\nAAAAAElFTkSuQmCC\n",
            "text/plain": [
              "<Figure size 432x288 with 1 Axes>"
            ]
          },
          "metadata": {
            "tags": []
          }
        },
        {
          "output_type": "display_data",
          "data": {
            "image/png": "iVBORw0KGgoAAAANSUhEUgAAAYgAAAEWCAYAAAB8LwAVAAAABHNCSVQICAgIfAhkiAAAAAlwSFlz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\n",
            "text/plain": [
              "<Figure size 432x288 with 1 Axes>"
            ]
          },
          "metadata": {
            "tags": []
          }
        }
      ]
    }
  ]
}
